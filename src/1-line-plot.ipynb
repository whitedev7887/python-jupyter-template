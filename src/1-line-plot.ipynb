{
 "cells": [
  {
   "cell_type": "markdown",
   "metadata": {},
   "source": [
    "### Exercise 1: Line Plot Customization"
   ]
  },
  {
   "cell_type": "code",
   "execution_count": null,
   "metadata": {},
   "outputs": [],
   "source": [
    "# TASK: Create a line plot with x values ranging from 0 to 10 and y values as the square of x.\n",
    "# Customize the plot by adding a title, labels for both axes, and a grid."
   ]
  }
 ],
 "metadata": {
  "language_info": {
   "name": "python"
  }
 },
 "nbformat": 4,
 "nbformat_minor": 2
}
import matplotlib.pyplot as plt
import numpy as np

# Generate x values from 0 to 10
x = np.arange(0, 11, 1)

# Calculate y values as the square of x
y = x ** 2

# Create the line plot
plt.plot(x, y, marker='o', linestyle='-', color='b', label='y = x^2')

# Add title and axis labels
plt.title('Line Plot: y = x^2')
plt.xlabel('x values')
plt.ylabel('y values (Square of x)')

# Add a grid
plt.grid(True)

# Add a legend
plt.legend()

# Display the plot
plt.show()
